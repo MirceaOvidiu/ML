{
 "cells": [
  {
   "cell_type": "markdown",
   "metadata": {},
   "source": [
    "Algoritm de corectie a culorilor unei imagini, bazat pe PCA."
   ]
  },
  {
   "cell_type": "markdown",
   "metadata": {},
   "source": [
    "In primul rand, importam bibliotecile necesare.\n",
    "\n",
    "cv2 - OpenCV, folosit pentru manipularea imaginilor la nivel de pixel si dimensiune.\n",
    "\n",
    "matplotlib - Il vom folosi pentru desenarea paletei de culori.\n",
    "\n",
    "seaborn - Pentru trasarea heatmapului pixelilor schimbati"
   ]
  },
  {
   "cell_type": "code",
   "execution_count": null,
   "metadata": {},
   "outputs": [],
   "source": [
    "import numpy as np # numpy\n",
    "import cv2 # opecv, pentru lucrul cu imagini\n",
    "import matplotlib.pyplot as plt # matplotlib, pentru plotari\n",
    "from matplotlib.patches import Patch # pentru legenda\n",
    "import seaborn as sns # seaborn, pentru heatmap"
   ]
  },
  {
   "cell_type": "markdown",
   "metadata": {},
   "source": [
    "Functia pentru generarea factorilor de rescalare:"
   ]
  },
  {
   "cell_type": "code",
   "execution_count": null,
   "metadata": {},
   "outputs": [],
   "source": [
    "def generate_scaling_factors(image):\n",
    "    # Imaginea este mapata ca un vector bidimensional,\n",
    "    # unde fiecare linie reprezinta un pixel, iar coloanele, valorile R, G si B ale pixelului\n",
    "    pixels = image.reshape((-1, 3)).astype(float)\n",
    "\n",
    "    # Standardizam pixelii, impartind (pixel - medie)/dispersie\n",
    "    mean_vector = np.mean(pixels, axis=0)\n",
    "    std_vector = np.std(pixels, axis=0)\n",
    "    standardized_pixels = (pixels - mean_vector) / std_vector\n",
    "\n",
    "    # Calculam matricea de covarianta\n",
    "    covariance_matrix = np.cov(standardized_pixels, rowvar=False)\n",
    "    print(\"Matricea de covarianta:\\n\", covariance_matrix)\n",
    "\n",
    "    # Calculam valorile proprii si vectorii proprii ai matricei de covarianta\n",
    "    eigenvalues, eigenvectors = np.linalg.eig(covariance_matrix)\n",
    "\n",
    "    # Valorile proprii sunt sortate descrescator,\n",
    "    # iar vectorii proprii sunt rearanjati pentru a corespunde ordinii valorilor proprii\n",
    "    idx = np.argsort(eigenvalues)[::-1]\n",
    "    eigenvalues = eigenvalues[idx]\n",
    "    eigenvectors = eigenvectors[:, idx]\n",
    "    print(\"\\n \\nValorile proprii sortate:\\n\", eigenvalues)\n",
    "    print(\"Vectorii proprii sortati:\\n\", eigenvectors)\n",
    "\n",
    "    # Selectam primele cele 3 valori principale - primii 3 vectori proprii\n",
    "    principal_components = eigenvectors[:, :3]\n",
    "\n",
    "    # Fiecare rand din matricea de pixeli standardizati este inmultit cu matricea de componente principale,\n",
    "    # si schimbam modul in care pixelii sunt reprezentati in spatiu in functie de cele 3 componente principale\n",
    "    transformed_pixels = standardized_pixels.dot(principal_components)\n",
    "\n",
    "    # Calculam factorii de scalare\n",
    "    scaling_factors = np.std(transformed_pixels, axis=0) / np.mean(np.abs(transformed_pixels), axis=0)\n",
    "\n",
    "    print(\"\\n \\nDeviatia standard a pixelilor scalati:\", np.std(transformed_pixels, axis=0))\n",
    "    print(\"Media absoluta a pixelilor scalati:   \", np.mean(np.abs(transformed_pixels), axis=0))\n",
    "    print(\" => Factorii de scalare:              \", scaling_factors)\n",
    "\n",
    "    return scaling_factors"
   ]
  },
  {
   "cell_type": "markdown",
   "metadata": {},
   "source": [
    "Functia propriu-zisa de corectie a culorilor:"
   ]
  },
  {
   "cell_type": "code",
   "execution_count": null,
   "metadata": {},
   "outputs": [],
   "source": [
    "def color_correction(image):\n",
    "    # Transformam imaginea intr-un vector bidimensional, unde fiecare linie reprezinta un pixel,\n",
    "    # iar coloanele, valorile R, G si B ale pixelului ca float - la fel ca in generate_scaling_factors\n",
    "    pixels = image.reshape((-1, 3)).astype(float)\n",
    "    \n",
    "    # Calculam media pixelilor de fiecare culoare - R, G, B\n",
    "    mean_vector = np.mean(pixels, axis=0)\n",
    "\n",
    "    # Calculam dispersia fata de mediile din mean_vector\n",
    "    std_vector = np.std(pixels, axis=0)\n",
    "\n",
    "    # Standardizam pixelii: (pixel - media) / dispersie\n",
    "    standardized_pixels = (pixels - mean_vector) / std_vector\n",
    "\n",
    "    # Calculam matricea de covarianta\n",
    "    covariance_matrix = np.cov(standardized_pixels, rowvar=False)\n",
    "\n",
    "    # Calculam vectorii proprii si valorile proprii ale matricei de covarianta\n",
    "    eigenvalues, eigenvectors = np.linalg.eig(covariance_matrix)\n",
    "\n",
    "    # Valorile proprii sunt sortate descrescator,\n",
    "    # iar vectorii proprii sunt rearanjati pentru a corespunde ordinii valorilor proprii\n",
    "    idx = np.argsort(eigenvalues)[::-1]\n",
    "    eigenvalues = eigenvalues[idx]\n",
    "    eigenvectors = eigenvectors[:, idx]\n",
    "\n",
    "    # Componentele principale sunt primii 3 vectori proprii\n",
    "    principal_components = eigenvectors[:, :3]\n",
    "\n",
    "    # Proiectam pixelii standardizati dupa componentele principale\n",
    "    projected_pixels = np.dot(standardized_pixels, principal_components)\n",
    "\n",
    "    # Ne luam factorii de scalare\n",
    "    scaling_factors = generate_scaling_factors(image)\n",
    "\n",
    "    # Corectam pixelii proiectati, inmultindu-i cu factorii de scalare\n",
    "    corrected_pixels = projected_pixels * scaling_factors\n",
    "\n",
    "    # Ne intoarcem la spatul original de pixeli, inmultind cu transpusa componentelor principale\n",
    "    corrected_pixels = np.dot(corrected_pixels, principal_components.T)\n",
    "    \n",
    "    # De-standardizam pixelii, inmultind cu dispersia si adunand media\n",
    "    corrected_pixels = corrected_pixels * std_vector + mean_vector\n",
    "\n",
    "    # Transformam vectorul de pixeli inapoi in imagine\n",
    "    corrected_image = corrected_pixels.reshape(image.shape)\n",
    "\n",
    "    # Si ne asiguram ca suntem in spatiul 8-bit de culoare, cu valori 0 - 255\n",
    "    return np.clip(corrected_image, 0, 255).astype(np.uint8)"
   ]
  },
  {
   "cell_type": "markdown",
   "metadata": {},
   "source": [
    "Generam heatmapul ce ne arata diferenta:"
   ]
  },
  {
   "cell_type": "code",
   "execution_count": null,
   "metadata": {},
   "outputs": [],
   "source": [
    "def plot_difference_heatmap(original_image, corrected_image):\n",
    "    # Calculam diferenta dintre imaginea originala si cea corectata\n",
    "    diff_image = np.abs(original_image - corrected_image)\n",
    "\n",
    "    # Calculam norma 2 a diferentelor pe fiecare pixel\n",
    "    RGB_scope_difference = np.linalg.norm(diff_image, axis=2)\n",
    "\n",
    "    # Si afisam rezultatul sub forma de heatmap\n",
    "    plt.figure(figsize=(10, 10))\n",
    "    sns.heatmap(RGB_scope_difference, cmap='coolwarm')\n",
    "    plt.title('Pixel-wise Difference Heatmap')\n",
    "    plt.show()"
   ]
  },
  {
   "cell_type": "markdown",
   "metadata": {},
   "source": [
    "Generam histogramele pentru fiecare canal de culoare:"
   ]
  },
  {
   "cell_type": "code",
   "execution_count": null,
   "metadata": {},
   "outputs": [],
   "source": [
    "def component_histograms(original_image, image_title):\n",
    "    channels = cv2.split(original_image)\n",
    "\n",
    "    colors = (\"b\", \"g\", \"r\")\n",
    "    plt.figure(figsize=(10, 10))\n",
    "    plt.title(image_title + \" separate scopes histograms\")\n",
    "    plt.xlabel(\"Bins\")\n",
    "    plt.ylabel(\"# of Pixels\")\n",
    "\n",
    "    # For each channel: calculate histogram, plot it, calculate median, plot vertical line\n",
    "    for (channel, color) in zip(channels, colors):\n",
    "        hist = cv2.calcHist([channel], [0], None, [256], [0, 256])\n",
    "        plt.plot(hist, color=color)\n",
    "        median = np.median(channel)\n",
    "        plt.axvline(median, color=color, linestyle='dashed', linewidth=2)\n",
    "\n",
    "    plt.legend(['Blue', 'Green', 'Red', 'Median Blue', 'Median Green', 'Median Red'])\n",
    "    plt.show()"
   ]
  },
  {
   "cell_type": "markdown",
   "metadata": {},
   "source": [
    "Generam histogramele celor doua imagini pentru a vedea cum este afectata fiecare zona:"
   ]
  },
  {
   "cell_type": "code",
   "execution_count": null,
   "metadata": {},
   "outputs": [],
   "source": [
    "def histograms(original_image, corrected_image):\n",
    "    hist_original = cv2.calcHist([original_image], [0], None, [256], [0, 256])\n",
    "    hist_corrected = cv2.calcHist([corrected_image], [0], None, [256], [0, 256])\n",
    "\n",
    "    plt.figure(figsize=(10, 10))\n",
    "    plt.title(\"Histograms\")\n",
    "    plt.xlabel(\"8 bit color values\")\n",
    "    plt.ylabel(\"# of Pixels\")\n",
    "    plt.plot(hist_original, color='orange', label=\"Original\")\n",
    "    plt.plot(hist_corrected, color='blue', label=\"Corrected\")\n",
    "\n",
    "    # Create a color legend\n",
    "    legend_elements = [Patch(facecolor='orange', edgecolor='orange', label='Original'),\n",
    "                       Patch(facecolor='blue', edgecolor='blue', label='Corrected')]\n",
    "\n",
    "    plt.legend(handles=legend_elements)\n",
    "    plt.show()"
   ]
  },
  {
   "cell_type": "markdown",
   "metadata": {},
   "source": [
    "Ne testam functiile:"
   ]
  },
  {
   "cell_type": "code",
   "execution_count": null,
   "metadata": {},
   "outputs": [],
   "source": [
    "# Incarcam imaginea\n",
    "image_path = \"lena.png\"\n",
    "\n",
    "# Extragem numele\n",
    "image_name = image_path.split(\".\")[0]\n",
    "\n",
    "# Citim imaginea originala\n",
    "original_image = cv2.imread(image_path)\n",
    "\n",
    "# Aplicam corectia de culoare\n",
    "corrected_image = color_correction(original_image)\n",
    "\n",
    "# Before and after\n",
    "\n",
    "# Factori - fx = 1, fy = 1 pentru 512 x 512\n",
    "#           fx = 0.5, fy = 0.5 pentru 1024 x 1024\n",
    "#           fx = 0.25, fy = 0.25 pentru 2048 x 2048\n",
    "#           fx = 0.125, fy = 0.125 pentru 4096 x 4096\n",
    "\n",
    "original_image = cv2.resize(original_image, None, fx=1, fy=1)\n",
    "cv2.imshow(\"Original Image\", original_image)\n",
    "corrected_image = cv2.resize(corrected_image, None, fx=1, fy=1)\n",
    "cv2.imshow(\"Color Corrected Image\", corrected_image)\n",
    "# Salvam imaginea corectata\n",
    "cv2.imwrite(image_name + \"_corrected.jpg\", corrected_image)\n",
    "cv2.waitKey(0)\n",
    "cv2.destroyAllWindows()\n",
    "\n",
    "# Histogramele - before and after; pentru a vizualiza rezultatul cantitativ al corectiei\n",
    "histograms(original_image, corrected_image)\n",
    "\n",
    "# Histogramele pe componente\n",
    "component_histograms(original_image, \"Original\")\n",
    "component_histograms(corrected_image, \"Corrected\")\n",
    "\n",
    "# Heatmapul pixelilor modificati; pentru a vizualiza rezultatul calitativ al corectiei\n",
    "plot_difference_heatmap(original_image, corrected_image)"
   ]
  },
  {
   "cell_type": "markdown",
   "metadata": {},
   "source": []
  }
 ],
 "metadata": {
  "kernelspec": {
   "display_name": ".venv",
   "language": "python",
   "name": "python3"
  },
  "language_info": {
   "codemirror_mode": {
    "name": "ipython",
    "version": 3
   },
   "file_extension": ".py",
   "mimetype": "text/x-python",
   "name": "python",
   "nbconvert_exporter": "python",
   "pygments_lexer": "ipython3",
   "version": "3.11.9"
  }
 },
 "nbformat": 4,
 "nbformat_minor": 2
}
